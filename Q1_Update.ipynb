{
  "nbformat": 4,
  "nbformat_minor": 0,
  "metadata": {
    "colab": {
      "provenance": [],
      "authorship_tag": "ABX9TyMK9kWFnvUvm0K+YR8mAjoZ",
      "include_colab_link": true
    },
    "kernelspec": {
      "name": "python3",
      "display_name": "Python 3"
    },
    "language_info": {
      "name": "python"
    }
  },
  "cells": [
    {
      "cell_type": "markdown",
      "metadata": {
        "id": "view-in-github",
        "colab_type": "text"
      },
      "source": [
        "<a href=\"https://colab.research.google.com/github/Viniciuspneves/Update-Projetos/blob/main/Q1_Update.ipynb\" target=\"_parent\"><img src=\"https://colab.research.google.com/assets/colab-badge.svg\" alt=\"Open In Colab\"/></a>"
      ]
    },
    {
      "cell_type": "markdown",
      "source": [
        "##### **Aviso:** Este material foi modificado para não ficar idêntico ao que foi proposto pela faculdade, para que eu possa me desenvolver pedi para o Deep Seek reformular tudo o que foi proposto e acrescentar requisitos a mais e também subir o nível da dificuldade.\n",
        "\n",
        "##### **Nota:** Se você já tem um nível  de experiencia na área, provavelmente ao análisar o meu programa vai encontrar maneiras melhores de se obter o mesmo resultado, estou em desenvolvimento e adiquirindo habilidades gradativamente neste projeto apliquei meus conhecimentos até o momento. Para registro e também medir minha evolução, certamente daqui um tempo revisitarei este programa e farei novos updates em minhas linhas de código. Deixe sugestões de melhorias, serão sempre bem vindas.\n",
        "\n",
        "### **QUESTÃO 1 de 4**\n",
        "#### Imagine que você é um dos programadores responsáveis pela construção de um sistema de vendas para uma empresa atacadista. O objetivo é criar um programa que calcule o valor total de um pedido, aplicando descontos progressivos com base no valor total da compra. Além disso, o sistema deve oferecer uma experiência mais interativa e robusta para o usuário.\n",
        "\n",
        "##### **A política de descontos da empresa funciona da seguinte forma:**\n",
        "\n",
        "- Para compras abaixo de 2.500,00 → sem desconto\n",
        "- Para compras de 2.500,00 a 5.999,99 → 4% de desconto\n",
        "- Para compras de 6.000,00 a R$ 9.999,99 → 7% de desconto\n",
        "- Para compras acima de 10.000,00 → 11% de desconto\n",
        "- Requisitos do programa\n",
        "- O programa deve conter as seguintes funcionalidades:\n",
        "\n",
        "##### **1. Interface interativa**\n",
        "- O sistema deve começar com um menu inicial, onde o usuário pode escolher entre calcular um novo pedido ou sair. Após cada cálculo, o usuário deve ter a opção de realizar outro cálculo ou encerrar o programa.\n",
        "\n",
        "##### **2. Entrada de dados validada**\n",
        "*O programa deve solicitar ao usuário:*\n",
        "- O valor unitário do produto\n",
        "- A quantidade de produtos\n",
        "- Deve-se garantir que apenas valores numéricos e positivos sejam aceitos. Caso contrário, uma mensagem de erro deve ser exibida e o usuário deve poder tentar novamente.\n",
        "\n",
        "##### **3. Cálculo do desconto**\n",
        "- O desconto deve ser aplicado com base na tabela acima.\n",
        "- O programa deve utilizar as estruturas if, elif e else para garantir a aplicação correta dos descontos.\n",
        "\n",
        "##### **4. Exibição clara dos resultados**\n",
        "*O sistema deve exibir:*\n",
        "- O valor total sem desconto\n",
        "- O percentual de desconto aplicado\n",
        "- O valor final com desconto\n",
        "- Os valores devem ser formatados corretamente, no padrão monetário (8.000,00 em vez de 8000.00).\n",
        "Uma mensagem personalizada deve ser exibida com base no desconto aplicado.\n",
        "\n",
        "##### **5. Permitir múltiplos produtos no mesmo pedido**\n",
        "- O usuário deve poder adicionar diferentes produtos ao pedido e calcular o total da compra.\n",
        "\n",
        "##### **6. Resumo do pedido em formato tabular**\n",
        "*Após a finalização do pedido, o programa deve exibir um resumo organizado, contendo:*\n",
        "- O valor total sem desconto.\n",
        "- O percentual de desconto aplicado.\n",
        "- O valor total final com desconto.\n",
        " exigências:\n",
        "\n",
        "[EXIGÊNCIA DE CÓDIGO 1 de 7] - Deve conter um print com uma mensagem de boas-vindas personalizada com o nome e sobrenome do programador.  \n",
        "[EXIGÊNCIA DE CÓDIGO 2 de 7] - Deve solicitar entrada do valor unitário e da quantidade de produtos, com tratamento de erros.  \n",
        "[EXIGÊNCIA DE CÓDIGO 3 de 7] - Deve calcular o desconto corretamente, garantindo que as condições de menor, igual e maior sejam corretamente implementadas.  \n",
        "[EXIGÊNCIA DE CÓDIGO 4 de 7] - Deve permitir múltiplos produtos no mesmo pedido.  \n",
        "[EXIGÊNCIA DE CÓDIGO 5 de 7] - Deve apresentar os resultados de forma clara e formatada.  \n",
        "[EXIGÊNCIA DE CÓDIGO 6 de 7] - Deve implementar corretamente as estruturas if, elif e else.  \n",
        "[EXIGÊNCIA DE CÓDIGO 7 de 7] - Deve conter comentários explicativos no código.  \n",
        "\n",
        "**Exigências da saída no console**\n",
        "\n",
        "[EXIGÊNCIA DE SAÍDA 1 de 3] - Exibir uma mensagem de boas-vindas personalizada.  \n",
        "[EXIGÊNCIA DE SAÍDA 2 de 3] - Mostrar um resumo tabular do pedido ao final.  \n",
        "[EXIGÊNCIA DE SAÍDA 3 de 3] - Exibir mensagens dinâmicas e personalizadas de acordo com o desconto aplicado.  \n"
      ],
      "metadata": {
        "id": "LgwIzNAOhHCY"
      }
    },
    {
      "cell_type": "markdown",
      "source": [
        "##### Decidi ir construindo esse programa por blocos, facilitando os ajustes e os possíveis erros, ao final após tudo corrigido e rodando, junto todos os blocos testando todo o programa\n",
        "##### **Breve explicaçao**\n",
        "- O código é um programa de cálculo de pedidos genérico, onde o usuário pode adicionar produtos, calcular o total e aplicar descontos de acordo com o valor total dos produtos. O programa oferece a opção de continuar calculando novos pedidos ou encerrar a execução.\n",
        "\n",
        "#### **Bloco 1**\n",
        "- Função `menu_inicial()`\n",
        "Essa função é responsável por exibir o menu principal e fornecer opções para o usuário calcular um novo pedido ou encerrar o programa geral.  \n",
        "- Estrutura de Loop `While True`:\n",
        "Garante que o menu seja exibido indefinidamente até que o usuário escolha encerrar o programa.\n",
        "- O programa usa `input()` para ler a escolha do usuário e a converte em um número inteiro usando `int()`. Se o valor informado não for um número, o programa exibe uma mensagem de erro (tratamento de exceção `except ValueError:`.\n",
        "- Validando as opções, se escolher 0, o programa exibirá uma mensagem de despedida e sairá do loop, encerrando o programa.\n",
        "Se digitar uma opção inválida, o programa solicita uma nova entrada\n",
        "- Neste primeiro bloco a Função `calcular_pedido()` ainda não está definida, então o programa irá quebrar, vamos defini-la no próximo bloco, essa é uma forma de eu ir entendendo e aprendendo a tartar os erros. Podemos ver nos testes de saída.\n",
        "\n",
        "#### **Testes de saída:**\n",
        "1. Digitando um número fora das opções.\n",
        "2. Digitando uma string no lugar de um número inteiro.\n",
        "3. Digitando 0 e encerrando o programa.\n",
        "4. digitando 1 e quebrando o programa, pois a função `calcular_pedido()`não esta definida.  "
      ],
      "metadata": {
        "id": "vj6CKGQHhRyp"
      }
    },
    {
      "cell_type": "code",
      "execution_count": 1,
      "metadata": {
        "colab": {
          "base_uri": "https://localhost:8080/"
        },
        "id": "eV-C77epgJ4B",
        "outputId": "2ea16eda-94eb-4a6d-d236-f1b8f727db79"
      },
      "outputs": [
        {
          "output_type": "stream",
          "name": "stdout",
          "text": [
            "Olá, me chamo Vinicius Neves, este é um update do meu primeiro projeto.\n",
            "\n",
            "Seja Bem-Vindo(a) ao Atacadista\n",
            "\n",
            "\n",
            "--- Menu Inicial ---\n",
            "1 - Calcular um novo pedido\n",
            "0 - Encerrar\n",
            "Digite uma das opções: 5\n",
            "Opção inválida! Digite novamente.\n",
            "\n",
            "--- Menu Inicial ---\n",
            "1 - Calcular um novo pedido\n",
            "0 - Encerrar\n",
            "Digite uma das opções: string\n",
            "Ops! Entrada inválida, digite um número dentre as opções.\n",
            "\n",
            "--- Menu Inicial ---\n",
            "1 - Calcular um novo pedido\n",
            "0 - Encerrar\n",
            "Digite uma das opções: 0\n",
            "\n",
            "--- Programa Encerrado! ---\n",
            "Agradecemos sua participação, volte sempre!\n"
          ]
        }
      ],
      "source": [
        "# Criando o menu principal com a opção calcular um novo pedido ou sair do programa.\n",
        "print('Olá, me chamo Vinicius Neves, este é um update do meu primeiro projeto.\\n')\n",
        "print('Seja Bem-Vindo(a) ao Atacadista\\n')\n",
        "\n",
        "def menu_inicial():\n",
        "    while True:  # Mantém o menu sempre ativo\n",
        "        print('\\n--- Menu Inicial ---')\n",
        "        print('1 - Calcular um novo pedido')\n",
        "        print('0 - Encerrar')\n",
        "\n",
        "        try:\n",
        "            escolha = int(input('Digite uma das opções: '))\n",
        "\n",
        "            if escolha == 1:\n",
        "                calcular_pedido() # Função ainda não definida\n",
        "            elif escolha == 0:\n",
        "                print('\\n--- Programa Encerrado! ---')\n",
        "                print('Agradecemos sua participação, volte sempre!')\n",
        "                break # Sai do loop e encerrando o programa\n",
        "            else:\n",
        "                print('Opção inválida! Digite novamente.')\n",
        "        except ValueError:\n",
        "            print('Ops! Entrada inválida, digite um número dentre as opções.')\n",
        "\n",
        "menu_inicial()"
      ]
    },
    {
      "cell_type": "code",
      "source": [
        "menu_inicial()"
      ],
      "metadata": {
        "colab": {
          "base_uri": "https://localhost:8080/",
          "height": 349
        },
        "id": "dwmO2QHmhdMC",
        "outputId": "ef63b43d-5028-4021-abf9-b1e99224394c"
      },
      "execution_count": 2,
      "outputs": [
        {
          "name": "stdout",
          "output_type": "stream",
          "text": [
            "\n",
            "--- Menu Inicial ---\n",
            "1 - Calcular um novo pedido\n",
            "0 - Encerrar\n",
            "Digite uma das opções: 1\n"
          ]
        },
        {
          "output_type": "error",
          "ename": "NameError",
          "evalue": "name 'calcular_pedido' is not defined",
          "traceback": [
            "\u001b[0;31m---------------------------------------------------------------------------\u001b[0m",
            "\u001b[0;31mNameError\u001b[0m                                 Traceback (most recent call last)",
            "\u001b[0;32m<ipython-input-2-173511a06a8b>\u001b[0m in \u001b[0;36m<cell line: 0>\u001b[0;34m()\u001b[0m\n\u001b[0;32m----> 1\u001b[0;31m \u001b[0mmenu_inicial\u001b[0m\u001b[0;34m(\u001b[0m\u001b[0;34m)\u001b[0m\u001b[0;34m\u001b[0m\u001b[0;34m\u001b[0m\u001b[0m\n\u001b[0m",
            "\u001b[0;32m<ipython-input-1-dd34f4555a84>\u001b[0m in \u001b[0;36mmenu_inicial\u001b[0;34m()\u001b[0m\n\u001b[1;32m     13\u001b[0m \u001b[0;34m\u001b[0m\u001b[0m\n\u001b[1;32m     14\u001b[0m             \u001b[0;32mif\u001b[0m \u001b[0mescolha\u001b[0m \u001b[0;34m==\u001b[0m \u001b[0;36m1\u001b[0m\u001b[0;34m:\u001b[0m\u001b[0;34m\u001b[0m\u001b[0;34m\u001b[0m\u001b[0m\n\u001b[0;32m---> 15\u001b[0;31m                 \u001b[0mcalcular_pedido\u001b[0m\u001b[0;34m(\u001b[0m\u001b[0;34m)\u001b[0m \u001b[0;31m# Função ainda não definida\u001b[0m\u001b[0;34m\u001b[0m\u001b[0;34m\u001b[0m\u001b[0m\n\u001b[0m\u001b[1;32m     16\u001b[0m             \u001b[0;32melif\u001b[0m \u001b[0mescolha\u001b[0m \u001b[0;34m==\u001b[0m \u001b[0;36m0\u001b[0m\u001b[0;34m:\u001b[0m\u001b[0;34m\u001b[0m\u001b[0;34m\u001b[0m\u001b[0m\n\u001b[1;32m     17\u001b[0m                 \u001b[0mprint\u001b[0m\u001b[0;34m(\u001b[0m\u001b[0;34m'\\n--- Programa Encerrado! ---'\u001b[0m\u001b[0;34m)\u001b[0m\u001b[0;34m\u001b[0m\u001b[0;34m\u001b[0m\u001b[0m\n",
            "\u001b[0;31mNameError\u001b[0m: name 'calcular_pedido' is not defined"
          ]
        }
      ]
    },
    {
      "cell_type": "markdown",
      "source": [
        "**NameError**: Como dito antes a função `calcular_pedido()` ainda não está definida, vamos resolver isso no bloco a seguir."
      ],
      "metadata": {
        "id": "ew4g1hVBhtbV"
      }
    },
    {
      "cell_type": "markdown",
      "source": [
        "#### **Bloco 2**\n",
        "- Função `calcular_pedido()`\n",
        "Essa função é responsável por calcular o total do pedido, aplicar descontos e exibir um resumo do pedido.\n",
        "- A função começa com a criação de uma lista `produtos = []`para armazenar os valores dos produtos e suas quantidades. O loop principal `while True:` permite que o usuário adicione quantos produtos desejar. O programa solicita:\n",
        "\n",
        "- O valor unitário de cada produto (como um número decimal).\n",
        "- A quantidade do produto (como um número inteiro).\n",
        "- Validação dos Valores Condição `if`. Se qualquer um dos valores for inválido (menor ou igual a 0), o programa exibe uma mensagem de erro e solicita a entrada novamente.\n",
        "- Loop interno `while True:` pergunta ao usuário se ele deseja adicionar outro produto. Se o usuário digitar \"S\", o loop interno é interrompido e o loop principal continua, permitindo a adição de outro produto. Se o usuário digitar \"N\", ambos os loops são interrompidos, encerrando a função.\n",
        "- `produtos.append` após a entrada de cada produto, ele é adicionado à lista produtos. O programa então pergunta ao usuário se ele deseja adicionar outro produto. Se a resposta não for \"S\" (sim), o loop é encerrado.\n",
        "- O bloco `try-except` captura erros de entrada inválida se o usuário digitar um valor não numérico. Se ocorrer um erro, uma mensagem é exibida e o usuário é solicitado a inserir os valores novamente.\n",
        "\n",
        "#### **Testes de saída:**\n",
        "1. Digitando um valor negativo.\n",
        "2. Testando erros de entrada inválida\n",
        "3. Calculando outro produto.\n",
        "4. programa termina ao escolher **N**, o valor é armazenado na lista e exibido, deixei a lista sendo exibida apenas para vermos que foi armazenado os valores dentro dela, ela não sera exibida neste ponto do codigo mais pra frente.\n",
        "\n"
      ],
      "metadata": {
        "id": "w_behTx6h0Bl"
      }
    },
    {
      "cell_type": "code",
      "source": [
        "def calcular_pedido():\n",
        "    # lista vazia para armazenar os produtos\n",
        "    produtos = []\n",
        "\n",
        "    # Loop principal para calcular o pedido\n",
        "    while True:\n",
        "        try:\n",
        "            print('\\n--- Calculando pedido ---')\n",
        "            valor_unitario = float(input('Digite o valor unitário do produto: '))\n",
        "            quantidade_produto = int(input('Digite a quantidade do produto: '))\n",
        "\n",
        "            # Verifica se a entrada são valores negativos ou zero\n",
        "            if valor_unitario <= 0 or quantidade_produto <= 0:\n",
        "                print('O valor do produto não pode ser negativo, digite novamente.')\n",
        "                continue # Volta ao início do loop\n",
        "\n",
        "            produtos.append((valor_unitario, quantidade_produto))\n",
        "\n",
        "            # Loop interno pergunta se deseja adicionar outro produto\n",
        "            while True:\n",
        "                Novo_produto = input('Deseja calcular outro produto? (S/N) ').strip().upper()\n",
        "\n",
        "                if Novo_produto == 'S':#sai do loop interno e continua no loop externo\n",
        "                    break\n",
        "\n",
        "                elif Novo_produto == 'N':\n",
        "                    break  # Sai do loop interno e depois do loop externo\n",
        "\n",
        "                else:\n",
        "                    print('Entrada inválida! Por favor, digite \"S\" para Sim ou \"N\" para Não.')\n",
        "\n",
        "            if Novo_produto == 'N':  # Se for \"N\", encerra o loop externo\n",
        "                print(f'Lista produtos: {produtos}') # Apenas para vizualizaçao\n",
        "                break\n",
        "\n",
        "        # Captura erros de entrada inválida (não numérica)\n",
        "        except ValueError:\n",
        "            print('Ops! Valor inválido, digite novamente.')\n",
        "\n",
        "calcular_pedido()"
      ],
      "metadata": {
        "colab": {
          "base_uri": "https://localhost:8080/"
        },
        "id": "KzhB7PHmhoeC",
        "outputId": "23b0db7c-789f-478b-a3a4-147461a3bdd4"
      },
      "execution_count": 3,
      "outputs": [
        {
          "output_type": "stream",
          "name": "stdout",
          "text": [
            "\n",
            "--- Calculando pedido ---\n",
            "Digite o valor unitário do produto: -359.90\n",
            "Digite a quantidade do produto: 3\n",
            "O valor do produto não pode ser negativo, digite novamente.\n",
            "\n",
            "--- Calculando pedido ---\n",
            "Digite o valor unitário do produto: 359.90\n",
            "Digite a quantidade do produto: 3\n",
            "Deseja calcular outro produto? (S/N) 50\n",
            "Entrada inválida! Por favor, digite \"S\" para Sim ou \"N\" para Não.\n",
            "Deseja calcular outro produto? (S/N) @#xyz\n",
            "Entrada inválida! Por favor, digite \"S\" para Sim ou \"N\" para Não.\n",
            "Deseja calcular outro produto? (S/N) s\n",
            "\n",
            "--- Calculando pedido ---\n",
            "Digite o valor unitário do produto: 445.90\n",
            "Digite a quantidade do produto: 2\n",
            "Deseja calcular outro produto? (S/N) n\n",
            "Lista produtos: [(359.9, 3), (445.9, 2)]\n"
          ]
        }
      ]
    },
    {
      "cell_type": "markdown",
      "source": [
        "#### **Bloco 3**\n",
        "\n",
        "- Lista de `Produtos = []` Criei essa lista manual apenas para demonstrar esse bloco, isso não será necessário, pois ela vai estar automatizada, quando juntarmos todo o código.\n",
        "- `produto_qtd = sum(valor * qtd for valor, qtd in produtos)` calcula o valor total do pedido multiplicando o valor unitário pela quantidade de cada produto e somando todos os resultados.\n",
        "- `total_com_desconto` é responsável por calcular o valor final do pedido após a aplicação do desconto. A expressão `1 - desconto` é usada para calcular a parte do valor que será mantida após aplicar o desconto.  \n",
        "Se o desconto for 0.04 (4%), então `1 - desconto` será igual a 0.96, ou seja, o valor será multiplicado por 96% do total.\n",
        "- `Exibição de Produtos:` Para cada produto, o programa mostra o valor, a quantidade e o subtotal (valor * quantidade). A formatação da moeda é feita para exibir os valores com duas casas decimais e separadores de milhar, substituindo a vírgula e o ponto para o formato brasileiro.\n",
        "- `Exibição dos Totais:`Se o valor total do pedido for menor que 2500, o código exibe apenas o valor sem desconto. Se o valor total for maior ou igual a 2500, o código exibe o valor sem desconto, o percentual de desconto aplicado e o valor com desconto\n",
        "- `.replace` A formatação da moeda é feita para exibir os valores com duas casas decimais e separadores de milhar, substituindo a vírgula e o ponto para o formato brasileiro.\n",
        "\n"
      ],
      "metadata": {
        "id": "sBUvbVJBjLsH"
      }
    },
    {
      "cell_type": "code",
      "source": [
        "# Calculando o valor total do pedido\n",
        "\n",
        "produtos = [(4990.9, 1), (549.9, 3)] # Apenas para exemplo desse bloco\n",
        "\n",
        "# Calcula o valor total do pedido sem desconto\n",
        "produto_qtd = sum(valor * qtd for valor, qtd in produtos)\n",
        "\n",
        "if produto_qtd < 2500:\n",
        "    desconto = 0\n",
        "elif 2500 <= produto_qtd < 6000:\n",
        "    desconto = 0.04\n",
        "elif 6000 <= produto_qtd < 10000:\n",
        "    desconto = 0.07\n",
        "else:\n",
        "    desconto = 0.11\n",
        "\n",
        "# Calcula o valor total do pedido com o desconto aplicado\n",
        "total_com_desconto = produto_qtd * (1 - desconto)\n",
        "\n",
        "# Exibir os produtos comprados\n",
        "print(\"\\n--- Resumo do Pedido ---\")\n",
        "# Itera sobre a lista de produtos\n",
        "for i, (valor, qtd) in enumerate(produtos, 1):\n",
        "    subtotal = valor * qtd\n",
        "    # Exibe o número do produto, valor unitário, quantidade e subtotal\n",
        "    print(f\"{i}- Produto | Valor: R$ {valor:,.2f} | Quantidade: {qtd} | Subtotal: R$ {subtotal:,.2f}\".replace(\",\", \"x\").replace(\".\", \",\").replace(\"x\", \".\"))\n",
        "\n",
        "# Exibição formatada dos valores totais\n",
        "# Se o total for menor que 2500, exibe apenas o valor sem desconto\n",
        "if produto_qtd < 2500:\n",
        "    print(\"\\n--- Totais ---\")\n",
        "    print(f\"Nenhum desconto aplicado: R$ {produto_qtd:,.2f}\".replace(\",\", \"x\").replace(\".\", \",\").replace(\"x\", \".\"))\n",
        "\n",
        "# Se o total for maior ou igual a 2500, exibe o valor sem desconto, o desconto aplicado e o valor com desconto\n",
        "else:\n",
        "    print(\"\\n--- Totais ---\")\n",
        "    print(f\"Valor SEM desconto: R$ {produto_qtd:,.2f}\".replace(\",\", \"x\").replace(\".\", \",\").replace(\"x\", \".\"))\n",
        "    print(f\"Desconto aplicado: {desconto * 100:.0f}%\")\n",
        "    print(f\"Valor COM desconto: R$ {total_com_desconto:,.2f}\".replace(\",\", \"x\").replace(\".\", \",\").replace(\"x\", \".\"))"
      ],
      "metadata": {
        "colab": {
          "base_uri": "https://localhost:8080/"
        },
        "id": "xvaaFJv9h-Uz",
        "outputId": "9045fa49-6b90-4120-d14d-1a8456948393"
      },
      "execution_count": 4,
      "outputs": [
        {
          "output_type": "stream",
          "name": "stdout",
          "text": [
            "\n",
            "--- Resumo do Pedido ---\n",
            "1- Produto | Valor: R$ 4.990,90 | Quantidade: 1 | Subtotal: R$ 4.990,90\n",
            "2- Produto | Valor: R$ 549,90 | Quantidade: 3 | Subtotal: R$ 1.649,70\n",
            "\n",
            "--- Totais ---\n",
            "Valor SEM desconto: R$ 6.640,60\n",
            "Desconto aplicado: 7%\n",
            "Valor COM desconto: R$ 6.175,76\n"
          ]
        }
      ]
    },
    {
      "cell_type": "markdown",
      "source": [
        "#### **Programa completo.**\n",
        "**Nota:** Como o programa já foi dividído por blocos e todo explicativo, a seguir todos os comentários dentro do código foram removidos para uma vizualização mais agradável\n",
        "- Juntando os blocos e rodando, no **primeiro teste**, rodando o programa sem digitações erradas, no **segundo teste**, gerando alguns possíveis erros de digitações para testarmos completamente. Se quiser, fique à vontade para testar esse programa e dar sugestões."
      ],
      "metadata": {
        "id": "mT-T8fAejnsS"
      }
    },
    {
      "cell_type": "code",
      "source": [
        "print('Olá, me chamo Vinicius Neves, este é um update do meu primeiro projeto.\\n')\n",
        "print('Seja Bem-Vindo(a) ao Atacadista\\n')\n",
        "\n",
        "def menu_inicial():\n",
        "\n",
        "    while True:\n",
        "        print('\\n--- Menu Inicial ---')\n",
        "        print('1 - Calcular um novo pedido')\n",
        "        print('0 - Encerrar')\n",
        "\n",
        "        try:\n",
        "            escolha = int(input('Digite uma das opções: '))\n",
        "\n",
        "            if escolha == 1:\n",
        "                calcular_pedido()\n",
        "            elif escolha == 0:\n",
        "                print('\\n--- Programa Encerrado! ---')\n",
        "                print('Agradecemos sua participação, volte sempre!')\n",
        "                break\n",
        "            else:\n",
        "                print('Opção inválida! Digite novamente.')\n",
        "\n",
        "        except ValueError:\n",
        "            print('Ops! Entrada inválida, digite um número dentre as opções.')\n",
        "\n",
        "def calcular_pedido():\n",
        "    produtos = []\n",
        "\n",
        "    while True:\n",
        "\n",
        "        try:\n",
        "            print('\\n--- Calculando pedido ---')\n",
        "            valor_unitario = float(input('Digite o valor unitário do produto: '))\n",
        "            quantidade_produto = int(input('Digite a quantidade do produto: '))\n",
        "\n",
        "            if valor_unitario <= 0 or quantidade_produto <= 0:\n",
        "                print('O valor do produto não pode ser negativo, digite novamente.')\n",
        "                continue\n",
        "\n",
        "            produtos.append((valor_unitario, quantidade_produto))\n",
        "\n",
        "            while True:\n",
        "                Novo_produto = input('Deseja calcular outro produto? (S/N) ').strip().upper()\n",
        "                if Novo_produto == 'S':\n",
        "                    break\n",
        "                elif Novo_produto == 'N':\n",
        "                    break\n",
        "                else:\n",
        "                    print('Entrada inválida! Por favor, digite \"S\" para Sim ou \"N\" para Não.')\n",
        "            if Novo_produto == 'N':\n",
        "                break\n",
        "\n",
        "        except ValueError:\n",
        "            print('Ops! Valor inválido, digite novamente.')\n",
        "\n",
        "    produto_qtd = sum(valor * qtd for valor, qtd in produtos)\n",
        "\n",
        "    if produto_qtd < 2500:\n",
        "        desconto = 0\n",
        "    elif 2500 <= produto_qtd < 6000:\n",
        "        desconto = 0.04\n",
        "    elif 6000 <= produto_qtd < 10000:\n",
        "        desconto = 0.07\n",
        "    else:\n",
        "        desconto = 0.11\n",
        "\n",
        "    total_com_desconto = produto_qtd * (1 - desconto)\n",
        "\n",
        "    print(\"\\n--- Resumo do Pedido ---\")\n",
        "\n",
        "    for i, (valor, qtd) in enumerate(produtos, 1):\n",
        "        subtotal = valor * qtd\n",
        "        print(f\"{i}- Produto | Valor: R$ {valor:,.2f} | Quantidade: {qtd} | Subtotal: R$ {subtotal:,.2f}\".replace(\",\", \"x\").replace(\".\", \",\").replace(\"x\", \".\"))\n",
        "    if produto_qtd < 2500:\n",
        "        print(\"\\n--- Totais ---\")\n",
        "        print(f\"Nenhum desconto aplicado: R$ {produto_qtd:,.2f}\".replace(\",\", \"x\").replace(\".\", \",\").replace(\"x\", \".\"))\n",
        "    else:\n",
        "        print(\"\\n--- Totais ---\")\n",
        "        print(f\"Valor SEM desconto: R$ {produto_qtd:,.2f}\".replace(\",\", \"x\").replace(\".\", \",\").replace(\"x\", \".\"))\n",
        "        print(f\"Desconto aplicado: {desconto * 100:.0f}%\")\n",
        "        print(f\"Valor COM desconto: R$ {total_com_desconto:,.2f}\".replace(\",\", \"x\").replace(\".\", \",\").replace(\"x\", \".\"))\n",
        "\n",
        "\n",
        "menu_inicial()"
      ],
      "metadata": {
        "colab": {
          "base_uri": "https://localhost:8080/"
        },
        "id": "O8Oe8UWAjipe",
        "outputId": "6e11939a-56a0-4b60-d3f4-0448bb3dc466"
      },
      "execution_count": 5,
      "outputs": [
        {
          "output_type": "stream",
          "name": "stdout",
          "text": [
            "Olá, me chamo Vinicius Neves, este é um update do meu primeiro projeto.\n",
            "\n",
            "Seja Bem-Vindo(a) ao Atacadista\n",
            "\n",
            "\n",
            "--- Menu Inicial ---\n",
            "1 - Calcular um novo pedido\n",
            "0 - Encerrar\n",
            "Digite uma das opções: 1\n",
            "\n",
            "--- Calculando pedido ---\n",
            "Digite o valor unitário do produto: 590.90\n",
            "Digite a quantidade do produto: 3\n",
            "Deseja calcular outro produto? (S/N) s\n",
            "\n",
            "--- Calculando pedido ---\n",
            "Digite o valor unitário do produto: 349.00\n",
            "Digite a quantidade do produto: 4\n",
            "Deseja calcular outro produto? (S/N) s\n",
            "\n",
            "--- Calculando pedido ---\n",
            "Digite o valor unitário do produto: 1290.90\n",
            "Digite a quantidade do produto: 1\n",
            "Deseja calcular outro produto? (S/N) s\n",
            "\n",
            "--- Calculando pedido ---\n",
            "Digite o valor unitário do produto: 945.90\n",
            "Digite a quantidade do produto: 2\n",
            "Deseja calcular outro produto? (S/N) n\n",
            "\n",
            "--- Resumo do Pedido ---\n",
            "1- Produto | Valor: R$ 590,90 | Quantidade: 3 | Subtotal: R$ 1.772,70\n",
            "2- Produto | Valor: R$ 349,00 | Quantidade: 4 | Subtotal: R$ 1.396,00\n",
            "3- Produto | Valor: R$ 1.290,90 | Quantidade: 1 | Subtotal: R$ 1.290,90\n",
            "4- Produto | Valor: R$ 945,90 | Quantidade: 2 | Subtotal: R$ 1.891,80\n",
            "\n",
            "--- Totais ---\n",
            "Valor SEM desconto: R$ 6.351,40\n",
            "Desconto aplicado: 7%\n",
            "Valor COM desconto: R$ 5.906,80\n",
            "\n",
            "--- Menu Inicial ---\n",
            "1 - Calcular um novo pedido\n",
            "0 - Encerrar\n",
            "Digite uma das opções: 0\n",
            "\n",
            "--- Programa Encerrado! ---\n",
            "Agradecemos sua participação, volte sempre!\n"
          ]
        }
      ]
    },
    {
      "cell_type": "markdown",
      "source": [
        "#### **Segundo Teste:**"
      ],
      "metadata": {
        "id": "5R-GYV53kPx2"
      }
    },
    {
      "cell_type": "code",
      "source": [
        "print('Olá, me chamo Vinicius Neves, este é um update do meu primeiro projeto.\\n')\n",
        "print('Seja Bem-Vindo(a) ao Atacadista\\n')\n",
        "\n",
        "def menu_inicial():\n",
        "\n",
        "    while True:\n",
        "        print('\\n--- Menu Inicial ---')\n",
        "        print('1 - Calcular um novo pedido')\n",
        "        print('0 - Encerrar')\n",
        "\n",
        "        try:\n",
        "            escolha = int(input('Digite uma das opções: '))\n",
        "\n",
        "            if escolha == 1:\n",
        "                calcular_pedido()\n",
        "            elif escolha == 0:\n",
        "                print('\\n--- Programa Encerrado! ---')\n",
        "                print('Agradecemos sua participação, volte sempre!')\n",
        "                break\n",
        "            else:\n",
        "                print('Opção inválida! Digite novamente.')\n",
        "\n",
        "        except ValueError:\n",
        "            print('Ops! Entrada inválida, digite um número dentre as opções.')\n",
        "\n",
        "def calcular_pedido():\n",
        "    produtos = []\n",
        "\n",
        "    while True:\n",
        "\n",
        "        try:\n",
        "            print('\\n--- Calculando pedido ---')\n",
        "            valor_unitario = float(input('Digite o valor unitário do produto: '))\n",
        "            quantidade_produto = int(input('Digite a quantidade do produto: '))\n",
        "\n",
        "            if valor_unitario <= 0 or quantidade_produto <= 0:\n",
        "                print('O valor do produto não pode ser negativo, digite novamente.')\n",
        "                continue\n",
        "\n",
        "            produtos.append((valor_unitario, quantidade_produto))\n",
        "\n",
        "            while True:\n",
        "                Novo_produto = input('Deseja calcular outro produto? (S/N) ').strip().upper()\n",
        "                if Novo_produto == 'S':\n",
        "                    break\n",
        "                elif Novo_produto == 'N':\n",
        "                    break\n",
        "                else:\n",
        "                    print('Entrada inválida! Por favor, digite \"S\" para Sim ou \"N\" para Não.')\n",
        "            if Novo_produto == 'N':\n",
        "                break\n",
        "\n",
        "        except ValueError:\n",
        "            print('Ops! Valor inválido, digite novamente.')\n",
        "\n",
        "    produto_qtd = sum(valor * qtd for valor, qtd in produtos)\n",
        "\n",
        "    if produto_qtd < 2500:\n",
        "        desconto = 0\n",
        "    elif 2500 <= produto_qtd < 6000:\n",
        "        desconto = 0.04\n",
        "    elif 6000 <= produto_qtd < 10000:\n",
        "        desconto = 0.07\n",
        "    else:\n",
        "        desconto = 0.11\n",
        "\n",
        "    total_com_desconto = produto_qtd * (1 - desconto)\n",
        "\n",
        "    print(\"\\n--- Resumo do Pedido ---\")\n",
        "\n",
        "    for i, (valor, qtd) in enumerate(produtos, 1):\n",
        "        subtotal = valor * qtd\n",
        "        print(f\"{i}- Produto | Valor: R$ {valor:,.2f} | Quantidade: {qtd} | Subtotal: R$ {subtotal:,.2f}\".replace(\",\", \"x\").replace(\".\", \",\").replace(\"x\", \".\"))\n",
        "    if produto_qtd < 2500:\n",
        "        print(\"\\n--- Totais ---\")\n",
        "        print(f\"Nenhum desconto aplicado: R$ {produto_qtd:,.2f}\".replace(\",\", \"x\").replace(\".\", \",\").replace(\"x\", \".\"))\n",
        "    else:\n",
        "        print(\"\\n--- Totais ---\")\n",
        "        print(f\"Valor SEM desconto: R$ {produto_qtd:,.2f}\".replace(\",\", \"x\").replace(\".\", \",\").replace(\"x\", \".\"))\n",
        "        print(f\"Desconto aplicado: {desconto * 100:.0f}%\")\n",
        "        print(f\"Valor COM desconto: R$ {total_com_desconto:,.2f}\".replace(\",\", \"x\").replace(\".\", \",\").replace(\"x\", \".\"))\n",
        "\n",
        "\n",
        "menu_inicial()"
      ],
      "metadata": {
        "colab": {
          "base_uri": "https://localhost:8080/"
        },
        "id": "8TnezI96juU7",
        "outputId": "2d186aa6-131a-4bd1-ed40-8cdd5129b9c5"
      },
      "execution_count": 6,
      "outputs": [
        {
          "output_type": "stream",
          "name": "stdout",
          "text": [
            "Olá, me chamo Vinicius Neves, este é um update do meu primeiro projeto.\n",
            "\n",
            "Seja Bem-Vindo(a) ao Atacadista\n",
            "\n",
            "\n",
            "--- Menu Inicial ---\n",
            "1 - Calcular um novo pedido\n",
            "0 - Encerrar\n",
            "Digite uma das opções: 5\n",
            "Opção inválida! Digite novamente.\n",
            "\n",
            "--- Menu Inicial ---\n",
            "1 - Calcular um novo pedido\n",
            "0 - Encerrar\n",
            "Digite uma das opções: string\n",
            "Ops! Entrada inválida, digite um número dentre as opções.\n",
            "\n",
            "--- Menu Inicial ---\n",
            "1 - Calcular um novo pedido\n",
            "0 - Encerrar\n",
            "Digite uma das opções: 1\n",
            "\n",
            "--- Calculando pedido ---\n",
            "Digite o valor unitário do produto: -1250.49\n",
            "Digite a quantidade do produto: 2\n",
            "O valor do produto não pode ser negativo, digite novamente.\n",
            "\n",
            "--- Calculando pedido ---\n",
            "Digite o valor unitário do produto: 1149.90\n",
            "Digite a quantidade do produto: 2\n",
            "Deseja calcular outro produto? (S/N) 333\n",
            "Entrada inválida! Por favor, digite \"S\" para Sim ou \"N\" para Não.\n",
            "Deseja calcular outro produto? (S/N) XyZ\n",
            "Entrada inválida! Por favor, digite \"S\" para Sim ou \"N\" para Não.\n",
            "Deseja calcular outro produto? (S/N) n\n",
            "\n",
            "--- Resumo do Pedido ---\n",
            "1- Produto | Valor: R$ 1.149,90 | Quantidade: 2 | Subtotal: R$ 2.299,80\n",
            "\n",
            "--- Totais ---\n",
            "Nenhum desconto aplicado: R$ 2.299,80\n",
            "\n",
            "--- Menu Inicial ---\n",
            "1 - Calcular um novo pedido\n",
            "0 - Encerrar\n",
            "Digite uma das opções: 0\n",
            "\n",
            "--- Programa Encerrado! ---\n",
            "Agradecemos sua participação, volte sempre!\n"
          ]
        }
      ]
    },
    {
      "cell_type": "markdown",
      "source": [
        "#### **Primeira Versão**\n",
        "Aqui está a primeira versão desenvolvida deste programa bem mais simples do que o update feito, esta é uma boa forma de se desafiar e medir a evolução conforme vai avançando nos estudos."
      ],
      "metadata": {
        "id": "hEYz7J_UlMkt"
      }
    },
    {
      "cell_type": "code",
      "source": [
        "print('Bem-Vindo(a) a Loja do Vinicius Neves\\n')\n",
        "\n",
        "valor_produto = float(input('Digite o valor do produto: '))\n",
        "qtd_produto = int(input('Digite a quantidade do produto: '))\n",
        "\n",
        "valor_qtd = valor_produto * qtd_produto\n",
        "\n",
        "print(f'O valor TOTAL da compra é: R${valor_qtd:.2f}')\n",
        "\n",
        "if valor_qtd < 2500:\n",
        "    print('Nenhum desconto disponível para essa compra.')\n",
        "elif 2500 <= valor_qtd < 6000:\n",
        "    desconto = valor_qtd * 0.04\n",
        "    print(f'O valor COM desconto de 4% é: R${valor_qtd - desconto:.2f}')\n",
        "elif 6000 <= valor_qtd < 10000:\n",
        "    desconto = valor_qtd * 0.07\n",
        "    print(f'O valor COM desconto de 7% é: R${valor_qtd - desconto:.2f}')\n",
        "else:\n",
        "    desconto = valor_qtd * 0.11\n",
        "    print(f'O valor COM desconto de 11% é: R${valor_qtd - desconto:.2f}')\n",
        "\n",
        "print('\\nObrigado por comprar conosco!')\n"
      ],
      "metadata": {
        "colab": {
          "base_uri": "https://localhost:8080/"
        },
        "id": "OM2e7Ytfke7o",
        "outputId": "f96c0166-d53d-48b9-c617-978325f5512a"
      },
      "execution_count": 7,
      "outputs": [
        {
          "output_type": "stream",
          "name": "stdout",
          "text": [
            "Bem-Vindo(a) a Loja do Vinicius Neves\n",
            "\n",
            "Digite o valor do produto: 490.49\n",
            "Digite a quantidade do produto: 7\n",
            "O valor TOTAL da compra é: R$3433.43\n",
            "O valor COM desconto de 4% é: R$3296.09\n",
            "\n",
            "Obrigado por comprar conosco!\n"
          ]
        }
      ]
    }
  ]
}